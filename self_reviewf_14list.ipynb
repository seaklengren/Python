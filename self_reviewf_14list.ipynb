{
 "cells": [
  {
   "cell_type": "code",
   "execution_count": null,
   "metadata": {},
   "outputs": [
    {
     "name": "stdout",
     "output_type": "stream",
     "text": [
      "(1, 2, 3, 4, 5, 6, 7, 8, 9, 10)\n"
     ]
    }
   ],
   "source": [
    "### Assignment 1: Creating and Accessing Tuples\n",
    "## Create a tuple with the first 10 positive integers. Print the tuple.\n",
    "number_rage = tuple(range(1,11))\n",
    "print(number_rage)"
   ]
  },
  {
   "cell_type": "code",
   "execution_count": 15,
   "metadata": {},
   "outputs": [
    {
     "name": "stdout",
     "output_type": "stream",
     "text": [
      "1\n",
      "5\n",
      "10\n"
     ]
    }
   ],
   "source": [
    "### Assignment 2: Accessing Tuple Elements\n",
    "## Print the first, middle, and last elements of the tuple created in Assignment 1.\n",
    "print(number_rage[0])\n",
    "print(number_rage[4])\n",
    "print(number_rage[-1])"
   ]
  },
  {
   "cell_type": "code",
   "execution_count": 18,
   "metadata": {},
   "outputs": [
    {
     "name": "stdout",
     "output_type": "stream",
     "text": [
      "(1, 2, 3)\n",
      "(8, 9, 10)\n",
      "(2, 3, 4, 5, 6)\n"
     ]
    }
   ],
   "source": [
    "### Assignment 3: Tuple Slicing\n",
    "## Print the first three elements, the last three elements, and the elements from index 2 to 5 of the tuple created in Assignment 1.\n",
    "print(number_rage[:3])\n",
    "print(number_rage[-3:])\n",
    "print(number_rage[1:6])"
   ]
  },
  {
   "cell_type": "code",
   "execution_count": 39,
   "metadata": {},
   "outputs": [
    {
     "name": "stdout",
     "output_type": "stream",
     "text": [
      "(1, 2, 3)\n",
      "(4, 5, 6)\n",
      "(7, 8, 9)\n",
      "6\n"
     ]
    }
   ],
   "source": [
    "### Assignment 4: Nested Tuples\n",
    "## Create a nested tuple representing a 3x3 matrix and print the matrix. Access and print the element at the second row and third column.\n",
    "matrix = (\n",
    "    (1,2,3),\n",
    "    (4,5,6),\n",
    "    (7,8,9)\n",
    ")\n",
    "for i in matrix:\n",
    "    print(i) #Display matrix representation\n",
    "index = matrix[1][2]\n",
    "print(index)\n"
   ]
  },
  {
   "cell_type": "code",
   "execution_count": 40,
   "metadata": {},
   "outputs": [
    {
     "name": "stdout",
     "output_type": "stream",
     "text": [
      "(1, 2, 3, 4, 5, 6)\n"
     ]
    }
   ],
   "source": [
    "## Assignment 5: Tuple Concatenation\n",
    "## Concatenate two tuples: (1, 2, 3) and (4, 5, 6). Print the resulting tuple.\n",
    "tuple1 = (1, 2, 3) \n",
    "tuple2 = (4,5,6)\n",
    "concat_tuple = tuple1 + tuple2\n",
    "print(concat_tuple)\n"
   ]
  },
  {
   "cell_type": "code",
   "execution_count": null,
   "metadata": {},
   "outputs": [],
   "source": [
    "### Assignment 6: Tuple Methods\n",
    "##Create a tuple with duplicate elements and count the occurrences of an element. Find the index of the first occurrence of an element in the tuple.\n",
    "  "
   ]
  }
 ],
 "metadata": {
  "kernelspec": {
   "display_name": "Python 3",
   "language": "python",
   "name": "python3"
  },
  "language_info": {
   "codemirror_mode": {
    "name": "ipython",
    "version": 3
   },
   "file_extension": ".py",
   "mimetype": "text/x-python",
   "name": "python",
   "nbconvert_exporter": "python",
   "pygments_lexer": "ipython3",
   "version": "3.10.15"
  }
 },
 "nbformat": 4,
 "nbformat_minor": 2
}
